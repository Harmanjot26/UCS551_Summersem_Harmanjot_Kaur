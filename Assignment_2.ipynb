{
  "nbformat": 4,
  "nbformat_minor": 0,
  "metadata": {
    "colab": {
      "provenance": []
    },
    "kernelspec": {
      "name": "python3",
      "display_name": "Python 3"
    },
    "language_info": {
      "name": "python"
    }
  },
  "cells": [
    {
      "cell_type": "code",
      "source": [
        "#Question-1"
      ],
      "metadata": {
        "id": "M3_VkUfVL3cn"
      },
      "execution_count": null,
      "outputs": []
    },
    {
      "cell_type": "code",
      "execution_count": 1,
      "metadata": {
        "colab": {
          "base_uri": "https://localhost:8080/"
        },
        "id": "YeKLJazvLjan",
        "outputId": "d13071aa-6045-4ca6-c346-7eabbceab7b0"
      },
      "outputs": [
        {
          "output_type": "stream",
          "name": "stdout",
          "text": [
            "Title: A Light in the Attic | Price: Â£51.77\n",
            "Title: Tipping the Velvet | Price: Â£53.74\n",
            "Title: Soumission | Price: Â£50.10\n",
            "Title: Sharp Objects | Price: Â£47.82\n",
            "Title: Sapiens: A Brief History of Humankind | Price: Â£54.23\n",
            "Title: The Requiem Red | Price: Â£22.65\n",
            "Title: The Dirty Little Secrets of Getting Your Dream Job | Price: Â£33.34\n",
            "Title: The Coming Woman: A Novel Based on the Life of the Infamous Feminist, Victoria Woodhull | Price: Â£17.93\n",
            "Title: The Boys in the Boat: Nine Americans and Their Epic Quest for Gold at the 1936 Berlin Olympics | Price: Â£22.60\n",
            "Title: The Black Maria | Price: Â£52.15\n",
            "\n",
            "✅ Data saved to 'books_scraped.csv'\n"
          ]
        }
      ],
      "source": [
        "import requests\n",
        "from bs4 import BeautifulSoup\n",
        "import csv\n",
        "\n",
        "# Step 1: Send a GET request to the website\n",
        "url = \"https://books.toscrape.com\"\n",
        "response = requests.get(url)\n",
        "soup = BeautifulSoup(response.text, 'html.parser')\n",
        "\n",
        "# Step 2: Find all book containers\n",
        "books = soup.find_all('article', class_='product_pod')[:10]  # First 10 books\n",
        "\n",
        "# Step 3: Extract titles and prices\n",
        "book_data = []\n",
        "\n",
        "for book in books:\n",
        "    title = book.h3.a['title']\n",
        "    price = book.find('p', class_='price_color').text\n",
        "    book_data.append([title, price])\n",
        "    print(f\"Title: {title} | Price: {price}\")\n",
        "\n",
        "# Step 4: Save results to a CSV file\n",
        "with open('books_scraped.csv', mode='w', newline='', encoding='utf-8') as file:\n",
        "    writer = csv.writer(file)\n",
        "    writer.writerow(['Title', 'Price'])\n",
        "    writer.writerows(book_data)\n",
        "\n",
        "print(\"\\n✅ Data saved to 'books_scraped.csv'\")\n"
      ]
    },
    {
      "cell_type": "code",
      "source": [
        "#Question-2"
      ],
      "metadata": {
        "id": "KPFDM1nEMEfO"
      },
      "execution_count": null,
      "outputs": []
    },
    {
      "cell_type": "code",
      "source": [
        "import requests\n",
        "import json\n",
        "\n",
        "# STEP 1: Replace this with your actual NewsAPI key\n",
        "api_key = 'YOUR_NEWSAPI_KEY'  # <-- 🔴 IMPORTANT: Replace with your key\n",
        "\n",
        "# STEP 2: Define the endpoint and parameters\n",
        "url = 'https://newsapi.org/v2/top-headlines'\n",
        "params = {\n",
        "    'category': 'technology',\n",
        "    'country': 'in',\n",
        "    'apiKey': api_key,\n",
        "    'pageSize': 10\n",
        "}\n",
        "\n",
        "# STEP 3: Make the GET request\n",
        "response = requests.get(url, params=params)\n",
        "data = response.json()\n",
        "\n",
        "# STEP 4: Extract required fields: title, source, publishedAt\n",
        "articles = data.get('articles', [])  # fallback to empty list if no data\n",
        "extracted = []\n",
        "\n",
        "for article in articles:\n",
        "    entry = {\n",
        "        'title': article['title'],\n",
        "        'source': article['source']['name'],\n",
        "        'publishedAt': article['publishedAt']\n",
        "    }\n",
        "    extracted.append(entry)\n",
        "    print(f\"Title: {entry['title']}\\nSource: {entry['source']}\\nPublished At: {entry['publishedAt']}\\n\")\n",
        "\n",
        "# STEP 5: Save results to JSON file\n",
        "with open('technology_news_india.json', 'w', encoding='utf-8') as f:\n",
        "    json.dump(extracted, f, indent=4)\n",
        "\n",
        "print(\"\\n✅ News data saved to 'technology_news_india.json'\")\n"
      ],
      "metadata": {
        "colab": {
          "base_uri": "https://localhost:8080/"
        },
        "id": "e_MbirYAL5lV",
        "outputId": "087afc0a-2b88-467b-b446-b54bdee639e8"
      },
      "execution_count": 2,
      "outputs": [
        {
          "output_type": "stream",
          "name": "stdout",
          "text": [
            "\n",
            "✅ News data saved to 'technology_news_india.json'\n"
          ]
        }
      ]
    },
    {
      "cell_type": "code",
      "source": [
        "import numpy as np\n",
        "import pandas as pd"
      ],
      "metadata": {
        "id": "FVCeLUQfSB97"
      },
      "execution_count": 5,
      "outputs": []
    },
    {
      "cell_type": "code",
      "source": [
        "\n",
        "#Question-3"
      ],
      "metadata": {
        "id": "rverMNMpShlZ"
      },
      "execution_count": null,
      "outputs": []
    },
    {
      "cell_type": "code",
      "source": [
        "!pip install requests pandas matplotlib\n",
        "\n",
        "\n",
        "import requests\n",
        "import pandas as pd\n",
        "import matplotlib.pyplot as plt\n",
        "\n",
        "# Replace this with your actual OpenWeatherMap API key\n",
        "API_KEY = 'fd6531f18051fc97584d2b6c7247b64b'\n",
        "BASE_URL = \"https://api.openweathermap.org/data/2.5/weather\"\n",
        "\n",
        "# List of 5 Indian cities\n",
        "cities = [\"Delhi\", \"Mumbai\", \"Kolkata\", \"Chennai\", \"Bengaluru\"]\n",
        "\n",
        "# Collect weather data\n",
        "weather_data = []\n",
        "\n",
        "for city in cities:\n",
        "    params = {\n",
        "        'q': city + ',IN',\n",
        "        'appid': API_KEY,\n",
        "        'units': 'metric'  # To get temperature in Celsius\n",
        "    }\n",
        "    response = requests.get(BASE_URL, params=params)\n",
        "    data = response.json()\n",
        "\n",
        "    if response.status_code == 200:\n",
        "        weather_data.append({\n",
        "            \"City\": city,\n",
        "            \"Temperature (°C)\": data['main']['temp'],\n",
        "            \"Humidity (%)\": data['main']['humidity'],\n",
        "            \"Condition\": data['weather'][0]['description']\n",
        "        })\n",
        "    else:\n",
        "        print(f\"Failed to fetch data for {city}\")\n",
        "\n",
        "# Convert to DataFrame\n",
        "df = pd.DataFrame(weather_data)\n",
        "print(df)\n",
        "\n",
        "# Plot bar chart of temperatures\n",
        "plt.figure(figsize=(10,6))\n",
        "plt.bar(df[\"City\"], df[\"Temperature (°C)\"], color='skyblue')\n",
        "plt.title(\"Current Temperature in 5 Indian Cities\")\n",
        "plt.xlabel(\"City\")\n",
        "plt.ylabel(\"Temperature (°C)\")\n",
        "plt.grid(True, axis='y', linestyle='--', alpha=0.7)\n",
        "plt.tight_layout()\n",
        "plt.show()"
      ],
      "metadata": {
        "colab": {
          "base_uri": "https://localhost:8080/",
          "height": 1000
        },
        "id": "u1Nx6a4wR1sj",
        "outputId": "325e58ea-4f64-490e-e6d1-181efdaae746"
      },
      "execution_count": 9,
      "outputs": [
        {
          "output_type": "stream",
          "name": "stdout",
          "text": [
            "Requirement already satisfied: requests in /usr/local/lib/python3.11/dist-packages (2.32.3)\n",
            "Requirement already satisfied: pandas in /usr/local/lib/python3.11/dist-packages (2.2.2)\n",
            "Requirement already satisfied: matplotlib in /usr/local/lib/python3.11/dist-packages (3.10.0)\n",
            "Requirement already satisfied: charset-normalizer<4,>=2 in /usr/local/lib/python3.11/dist-packages (from requests) (3.4.2)\n",
            "Requirement already satisfied: idna<4,>=2.5 in /usr/local/lib/python3.11/dist-packages (from requests) (3.10)\n",
            "Requirement already satisfied: urllib3<3,>=1.21.1 in /usr/local/lib/python3.11/dist-packages (from requests) (2.4.0)\n",
            "Requirement already satisfied: certifi>=2017.4.17 in /usr/local/lib/python3.11/dist-packages (from requests) (2025.6.15)\n",
            "Requirement already satisfied: numpy>=1.23.2 in /usr/local/lib/python3.11/dist-packages (from pandas) (2.0.2)\n",
            "Requirement already satisfied: python-dateutil>=2.8.2 in /usr/local/lib/python3.11/dist-packages (from pandas) (2.9.0.post0)\n",
            "Requirement already satisfied: pytz>=2020.1 in /usr/local/lib/python3.11/dist-packages (from pandas) (2025.2)\n",
            "Requirement already satisfied: tzdata>=2022.7 in /usr/local/lib/python3.11/dist-packages (from pandas) (2025.2)\n",
            "Requirement already satisfied: contourpy>=1.0.1 in /usr/local/lib/python3.11/dist-packages (from matplotlib) (1.3.2)\n",
            "Requirement already satisfied: cycler>=0.10 in /usr/local/lib/python3.11/dist-packages (from matplotlib) (0.12.1)\n",
            "Requirement already satisfied: fonttools>=4.22.0 in /usr/local/lib/python3.11/dist-packages (from matplotlib) (4.58.4)\n",
            "Requirement already satisfied: kiwisolver>=1.3.1 in /usr/local/lib/python3.11/dist-packages (from matplotlib) (1.4.8)\n",
            "Requirement already satisfied: packaging>=20.0 in /usr/local/lib/python3.11/dist-packages (from matplotlib) (24.2)\n",
            "Requirement already satisfied: pillow>=8 in /usr/local/lib/python3.11/dist-packages (from matplotlib) (11.2.1)\n",
            "Requirement already satisfied: pyparsing>=2.3.1 in /usr/local/lib/python3.11/dist-packages (from matplotlib) (3.2.3)\n",
            "Requirement already satisfied: six>=1.5 in /usr/local/lib/python3.11/dist-packages (from python-dateutil>=2.8.2->pandas) (1.17.0)\n",
            "        City  Temperature (°C)  Humidity (%)         Condition\n",
            "0      Delhi             33.05            58     broken clouds\n",
            "1     Mumbai             28.99            84   overcast clouds\n",
            "2    Kolkata             27.97            73   overcast clouds\n",
            "3    Chennai             37.15            55  scattered clouds\n",
            "4  Bengaluru             27.80            59  scattered clouds\n"
          ]
        },
        {
          "output_type": "display_data",
          "data": {
            "text/plain": [
              "<Figure size 1000x600 with 1 Axes>"
            ],
            "image/png": "[encoded data removed]"
          },
          "metadata": {}
        }
      ]
    }
  ]
}