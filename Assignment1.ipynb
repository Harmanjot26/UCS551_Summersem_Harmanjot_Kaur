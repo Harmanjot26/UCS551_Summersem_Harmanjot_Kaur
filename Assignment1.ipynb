{
  "nbformat": 4,
  "nbformat_minor": 0,
  "metadata": {
    "colab": {
      "provenance": []
    },
    "kernelspec": {
      "name": "python3",
      "display_name": "Python 3"
    },
    "language_info": {
      "name": "python"
    }
  },
  "cells": [
    {
      "cell_type": "code",
      "source": [
        "#Question-1"
      ],
      "metadata": {
        "id": "Sjqo1F9kGk2d"
      },
      "execution_count": null,
      "outputs": []
    },
    {
      "cell_type": "code",
      "execution_count": 1,
      "metadata": {
        "id": "3k9hoXY7F40R"
      },
      "outputs": [],
      "source": [
        "import numpy as np\n",
        "\n"
      ]
    },
    {
      "cell_type": "code",
      "source": [
        "np.random.seed(0)"
      ],
      "metadata": {
        "id": "Nts3SOXNGEDu"
      },
      "execution_count": 2,
      "outputs": []
    },
    {
      "cell_type": "code",
      "source": [
        "array = np.random.randint(10, 101, (5, 5))\n",
        "print(\"Original Array:\\n\", array)\n"
      ],
      "metadata": {
        "colab": {
          "base_uri": "https://localhost:8080/"
        },
        "id": "B0gaH08lGHTn",
        "outputId": "4669b191-f104-47af-dc35-6c4a8fd948d3"
      },
      "execution_count": 3,
      "outputs": [
        {
          "output_type": "stream",
          "name": "stdout",
          "text": [
            "Original Array:\n",
            " [[54 57 74 77 77]\n",
            " [19 93 31 46 97]\n",
            " [80 98 98 22 68]\n",
            " [75 49 97 56 98]\n",
            " [91 47 35 87 82]]\n"
          ]
        }
      ]
    },
    {
      "cell_type": "code",
      "source": [
        "array = np.random.randint(10, 101, size=(5, 5))\n",
        "print(\"Original 5x5 Array:\\n\", array)"
      ],
      "metadata": {
        "colab": {
          "base_uri": "https://localhost:8080/"
        },
        "id": "YpP-qwMwGKZN",
        "outputId": "deb6e093-ce51-4422-9770-ef9cc5d857b0"
      },
      "execution_count": 9,
      "outputs": [
        {
          "output_type": "stream",
          "name": "stdout",
          "text": [
            "Original 5x5 Array:\n",
            " [[19 30 90 79 89]\n",
            " [57 74 92 98 59]\n",
            " [39 29 29 24 49]\n",
            " [42 75 19 67 42]\n",
            " [41 84 33 45 85]]\n"
          ]
        }
      ]
    },
    {
      "cell_type": "code",
      "source": [
        "modified_array = np.where(array % 2 == 0, -1, array)\n",
        "print(\"\\nArray with Even Numbers Replaced by -1:\\n\", modified_array)\n"
      ],
      "metadata": {
        "colab": {
          "base_uri": "https://localhost:8080/"
        },
        "id": "hlWLcWUfGNjJ",
        "outputId": "8af51236-2d77-4fdc-cc93-928a56d5e2d4"
      },
      "execution_count": 10,
      "outputs": [
        {
          "output_type": "stream",
          "name": "stdout",
          "text": [
            "\n",
            "Array with Even Numbers Replaced by -1:\n",
            " [[19 -1 -1 79 89]\n",
            " [57 -1 -1 -1 59]\n",
            " [39 29 29 -1 49]\n",
            " [-1 75 19 67 -1]\n",
            " [41 -1 33 45 85]]\n"
          ]
        }
      ]
    },
    {
      "cell_type": "code",
      "source": [
        "row_sum = modified_array.sum(axis=1)\n",
        "row_mean = modified_array.mean(axis=1)\n",
        "print(\"\\nRow-wise Sum:\", row_sum)\n",
        "print(\"Row-wise Mean:\", row_mean)\n"
      ],
      "metadata": {
        "colab": {
          "base_uri": "https://localhost:8080/"
        },
        "id": "iUlv7OTtGQqi",
        "outputId": "bcb75c7e-24cb-426a-9759-626272caa457"
      },
      "execution_count": 11,
      "outputs": [
        {
          "output_type": "stream",
          "name": "stdout",
          "text": [
            "\n",
            "Row-wise Sum: [185 113 145 159 203]\n",
            "Row-wise Mean: [37.  22.6 29.  31.8 40.6]\n"
          ]
        }
      ]
    },
    {
      "cell_type": "code",
      "source": [
        "col_sum = modified_array.sum(axis=0)\n",
        "col_mean = modified_array.mean(axis=0)\n",
        "print(\"\\nColumn-wise Sum:\", col_sum)\n",
        "print(\"Column-wise Mean:\", col_mean)"
      ],
      "metadata": {
        "colab": {
          "base_uri": "https://localhost:8080/"
        },
        "id": "sEr1UzMSHOOC",
        "outputId": "ad8b9c1d-90d1-4245-f79d-d368c73d5feb"
      },
      "execution_count": 12,
      "outputs": [
        {
          "output_type": "stream",
          "name": "stdout",
          "text": [
            "\n",
            "Column-wise Sum: [155 101  79 189 281]\n",
            "Column-wise Mean: [31.  20.2 15.8 37.8 56.2]\n"
          ]
        }
      ]
    },
    {
      "cell_type": "code",
      "source": [
        "flattened_sorted = np.sort(modified_array.flatten())[::-1]\n",
        "print(\"\\nFlattened and Sorted (Descending):\\n\", flattened_sorted)"
      ],
      "metadata": {
        "colab": {
          "base_uri": "https://localhost:8080/"
        },
        "id": "CruCfGyDGVNi",
        "outputId": "f3aaa76d-13b2-43be-89f6-8924680ca692"
      },
      "execution_count": 13,
      "outputs": [
        {
          "output_type": "stream",
          "name": "stdout",
          "text": [
            "\n",
            "Flattened and Sorted (Descending):\n",
            " [89 85 79 75 67 59 57 49 45 41 39 33 29 29 19 19 -1 -1 -1 -1 -1 -1 -1 -1\n",
            " -1]\n"
          ]
        }
      ]
    },
    {
      "cell_type": "code",
      "source": [
        "#Question-2\n"
      ],
      "metadata": {
        "id": "x84hzaz8JlEo"
      },
      "execution_count": null,
      "outputs": []
    },
    {
      "cell_type": "code",
      "source": [
        "import pandas as pd\n",
        "df = pd.read_csv('StudentsPerformance.csv')\n"
      ],
      "metadata": {
        "id": "UutXKwxOJnwc"
      },
      "execution_count": 31,
      "outputs": []
    },
    {
      "cell_type": "code",
      "source": [
        "stats = df[['math score', 'reading score', 'writing score']].agg(['mean', 'median', 'std'])\n",
        "print(\"Basic Statistics (Mean, Median, Std):\\n\", stats)"
      ],
      "metadata": {
        "colab": {
          "base_uri": "https://localhost:8080/"
        },
        "id": "3JkIMVFlKHa4",
        "outputId": "d2925f98-ea6f-4924-e97e-c903b8bc222c"
      },
      "execution_count": 32,
      "outputs": [
        {
          "output_type": "stream",
          "name": "stdout",
          "text": [
            "Basic Statistics (Mean, Median, Std):\n",
            "         math score  reading score  writing score\n",
            "mean      66.08900      69.169000      68.054000\n",
            "median    66.00000      70.000000      69.000000\n",
            "std       15.16308      14.600192      15.195657\n"
          ]
        }
      ]
    },
    {
      "cell_type": "code",
      "source": [
        "df['Overall_Score'] = df[['math score', 'reading score', 'writing score']].mean(axis=1)"
      ],
      "metadata": {
        "id": "6vtafef7KM9t"
      },
      "execution_count": 33,
      "outputs": []
    },
    {
      "cell_type": "code",
      "source": [
        "df['Result'] = df.apply(\n",
        "    lambda row: 'Pass' if all(row[subject] >= 40 for subject in ['math score', 'reading score', 'writing score']) else 'Fail',\n",
        "    axis=1\n",
        ")"
      ],
      "metadata": {
        "id": "lw0VLRWzKP5c"
      },
      "execution_count": 34,
      "outputs": []
    },
    {
      "cell_type": "code",
      "source": [
        "grouped_avg = df.groupby(['gender', 'parental level of education'])[['math score', 'reading score', 'writing score']].mean()\n",
        "print(\"\\nGroup-wise Average Scores by Gender and Parental Education:\\n\", grouped_avg)\n"
      ],
      "metadata": {
        "colab": {
          "base_uri": "https://localhost:8080/"
        },
        "id": "D_WC44NHKTJe",
        "outputId": "b3cd6c83-dbf1-430b-a8af-a68a53b22219"
      },
      "execution_count": 35,
      "outputs": [
        {
          "output_type": "stream",
          "name": "stdout",
          "text": [
            "\n",
            "Group-wise Average Scores by Gender and Parental Education:\n",
            "                                     math score  reading score  writing score\n",
            "gender parental level of education                                          \n",
            "female associate's degree            65.250000      74.120690      74.000000\n",
            "       bachelor's degree             68.349206      77.285714      78.380952\n",
            "       high school                   59.351064      68.202128      66.691489\n",
            "       master's degree               66.500000      76.805556      77.638889\n",
            "       some college                  65.406780      73.550847      74.050847\n",
            "       some high school              59.296703      69.109890      68.285714\n",
            "male   associate's degree            70.764151      67.433962      65.405660\n",
            "       bachelor's degree             70.581818      68.090909      67.654545\n",
            "       high school                   64.705882      61.480392      58.539216\n",
            "       master's degree               74.826087      73.130435      72.608696\n",
            "       some college                  69.009259      64.990741      63.148148\n",
            "       some high school              67.840909      64.693182      61.375000\n"
          ]
        }
      ]
    },
    {
      "cell_type": "code",
      "source": [
        "prep_course_avg = df.groupby('test preparation course')['math score'].mean()"
      ],
      "metadata": {
        "id": "MVanLPRpKYmS"
      },
      "execution_count": 36,
      "outputs": []
    },
    {
      "cell_type": "code",
      "source": [
        "prep_course_avg.plot(kind='bar', color=['skyblue', 'orange'])\n",
        "plt.title('Average Math Score by Test Preparation Course')\n",
        "plt.xlabel('Test Preparation Course')\n",
        "plt.ylabel('Average Math Score')\n",
        "plt.grid(axis='y')\n",
        "plt.tight_layout()\n",
        "plt.show()"
      ],
      "metadata": {
        "colab": {
          "base_uri": "https://localhost:8080/",
          "height": 487
        },
        "id": "1drZi4CEKbc_",
        "outputId": "cec5280b-80e4-4c53-f823-f43328fd6c1d"
      },
      "execution_count": 37,
      "outputs": [
        {
          "output_type": "display_data",
          "data": {
            "text/plain": [
              "<Figure size 640x480 with 1 Axes>"
            ],
            "image/png": "[encoded data removed]"
          },
          "metadata": {}
        }
      ]
    },
    {
      "cell_type": "code",
      "source": [
        "#Question-3"
      ],
      "metadata": {
        "id": "RCt8mq3WGoAV"
      },
      "execution_count": null,
      "outputs": []
    },
    {
      "cell_type": "code",
      "source": [
        "from scipy import linalg, optimize\n",
        "import matplotlib.pyplot as plt"
      ],
      "metadata": {
        "id": "JeBnnaQBGrbS"
      },
      "execution_count": 14,
      "outputs": []
    },
    {
      "cell_type": "code",
      "source": [
        "A = np.array([[3, 2], [4, -1]])   # Coefficient matrix\n",
        "b = np.array([16, 9])            # Right-hand side constants\n"
      ],
      "metadata": {
        "id": "omkUuIYAIduj"
      },
      "execution_count": 15,
      "outputs": []
    },
    {
      "cell_type": "code",
      "source": [
        "solution = linalg.solve(A, b)"
      ],
      "metadata": {
        "id": "T_53oD72Ig4P"
      },
      "execution_count": 16,
      "outputs": []
    },
    {
      "cell_type": "code",
      "source": [
        "\n",
        "print(\"Solution of the system of equations:\")\n",
        "print(f\"x = {solution[0]:.4f}, y = {solution[1]:.4f}\")\n"
      ],
      "metadata": {
        "colab": {
          "base_uri": "https://localhost:8080/"
        },
        "id": "QGJNUprJIj-c",
        "outputId": "310e7a84-b34c-4abe-d147-ffec1ec793c4"
      },
      "execution_count": 17,
      "outputs": [
        {
          "output_type": "stream",
          "name": "stdout",
          "text": [
            "Solution of the system of equations:\n",
            "x = 3.0909, y = 3.3636\n"
          ]
        }
      ]
    },
    {
      "cell_type": "code",
      "source": [
        "f = lambda x: (x - 3)**2 + 2"
      ],
      "metadata": {
        "id": "slK16dayInF3"
      },
      "execution_count": 18,
      "outputs": []
    },
    {
      "cell_type": "code",
      "source": [
        "result = optimize.minimize(f, x0=0)"
      ],
      "metadata": {
        "id": "8LSEwqKAIqBV"
      },
      "execution_count": 19,
      "outputs": []
    },
    {
      "cell_type": "code",
      "source": [
        "print(\"\\nMinimum of f(x) = (x - 3)^2 + 2\")\n",
        "print(f\"Minimum at x = {result.x[0]:.4f}\")\n",
        "print(f\"Minimum value = {f(result.x[0]):.4f}\")"
      ],
      "metadata": {
        "colab": {
          "base_uri": "https://localhost:8080/"
        },
        "id": "erUzZvScIthx",
        "outputId": "4a64f47e-0eff-433f-fa43-8d7752a5fc3b"
      },
      "execution_count": 20,
      "outputs": [
        {
          "output_type": "stream",
          "name": "stdout",
          "text": [
            "\n",
            "Minimum of f(x) = (x - 3)^2 + 2\n",
            "Minimum at x = 3.0000\n",
            "Minimum value = 2.0000\n"
          ]
        }
      ]
    },
    {
      "cell_type": "code",
      "source": [
        "x_vals = np.linspace(-2, 8, 100)\n",
        "y_vals = f(x_vals)\n"
      ],
      "metadata": {
        "id": "uok0kXMYIxR6"
      },
      "execution_count": 21,
      "outputs": []
    },
    {
      "cell_type": "code",
      "source": [
        "plt.figure(figsize=(8, 5))\n",
        "plt.plot(x_vals, y_vals, label=\"f(x) = (x−3)² + 2\", color=\"blue\")\n",
        "plt.scatter(result.x, f(result.x), color=\"red\", label=\"Minimum Point\", zorder=5)\n",
        "plt.title(\"Function Minimization: f(x) = (x - 3)^2 + 2\")\n",
        "plt.xlabel(\"x\")\n",
        "plt.ylabel(\"f(x)\")\n",
        "plt.legend()\n",
        "plt.grid(True)\n",
        "plt.tight_layout()\n",
        "plt.show()"
      ],
      "metadata": {
        "colab": {
          "base_uri": "https://localhost:8080/",
          "height": 507
        },
        "id": "tV3-R05wI0mp",
        "outputId": "fc661871-a654-4334-8458-1e18f8349d13"
      },
      "execution_count": 22,
      "outputs": [
        {
          "output_type": "display_data",
          "data": {
            "text/plain": [
              "<Figure size 800x500 with 1 Axes>"
            ],
            "image/png": "[encoded data removed]"
          },
          "metadata": {}
        }
      ]
    },
    {
      "cell_type": "code",
      "source": [
        "#Question-4"
      ],
      "metadata": {
        "id": "L1yVMoecI4fi"
      },
      "execution_count": null,
      "outputs": []
    },
    {
      "cell_type": "code",
      "source": [
        "from sklearn.datasets import load_iris\n",
        "from sklearn.model_selection import train_test_split\n",
        "from sklearn.linear_model import LogisticRegression\n",
        "from sklearn.neighbors import KNeighborsClassifier\n",
        "from sklearn.metrics import accuracy_score, confusion_matrix, classification_report"
      ],
      "metadata": {
        "id": "IEtG3v3QI843"
      },
      "execution_count": 23,
      "outputs": []
    },
    {
      "cell_type": "code",
      "source": [
        "iris = load_iris()\n",
        "X = iris.data          # Features\n",
        "y = iris.target        # Labels"
      ],
      "metadata": {
        "id": "kPwNPm-9JJsj"
      },
      "execution_count": 24,
      "outputs": []
    },
    {
      "cell_type": "code",
      "source": [
        "X_train, X_test, y_train, y_test = train_test_split(X, y, test_size=0.3, random_state=42)\n"
      ],
      "metadata": {
        "id": "elNLDHcDJM27"
      },
      "execution_count": 25,
      "outputs": []
    },
    {
      "cell_type": "code",
      "source": [
        "log_reg = LogisticRegression(max_iter=200)\n",
        "log_reg.fit(X_train, y_train)\n",
        "y_pred_logreg = log_reg.predict(X_test)\n"
      ],
      "metadata": {
        "id": "lfHxNhc1JQRM"
      },
      "execution_count": 27,
      "outputs": []
    },
    {
      "cell_type": "code",
      "source": [
        "print(\"----- Logistic Regression -----\")\n",
        "print(\"Accuracy:\", accuracy_score(y_test, y_pred_logreg))\n",
        "print(\"Confusion Matrix:\\n\", confusion_matrix(y_test, y_pred_logreg))\n",
        "print(\"Classification Report:\\n\", classification_report(y_test, y_pred_logreg))"
      ],
      "metadata": {
        "colab": {
          "base_uri": "https://localhost:8080/"
        },
        "id": "oMqyRm0pJWBL",
        "outputId": "c10df894-c216-4e0b-ff73-88ce8969d608"
      },
      "execution_count": 28,
      "outputs": [
        {
          "output_type": "stream",
          "name": "stdout",
          "text": [
            "----- Logistic Regression -----\n",
            "Accuracy: 1.0\n",
            "Confusion Matrix:\n",
            " [[19  0  0]\n",
            " [ 0 13  0]\n",
            " [ 0  0 13]]\n",
            "Classification Report:\n",
            "               precision    recall  f1-score   support\n",
            "\n",
            "           0       1.00      1.00      1.00        19\n",
            "           1       1.00      1.00      1.00        13\n",
            "           2       1.00      1.00      1.00        13\n",
            "\n",
            "    accuracy                           1.00        45\n",
            "   macro avg       1.00      1.00      1.00        45\n",
            "weighted avg       1.00      1.00      1.00        45\n",
            "\n"
          ]
        }
      ]
    },
    {
      "cell_type": "code",
      "source": [
        "knn = KNeighborsClassifier(n_neighbors=3)\n",
        "knn.fit(X_train, y_train)\n",
        "y_pred_knn = knn.predict(X_test)\n",
        "\n",
        "print(\"----- k-Nearest Neighbors (k=3) -----\")\n",
        "print(\"Accuracy:\", accuracy_score(y_test, y_pred_knn))\n",
        "print(\"Confusion Matrix:\\n\", confusion_matrix(y_test, y_pred_knn))\n",
        "print(\"Classification Report:\\n\", classification_report(y_test, y_pred_knn))"
      ],
      "metadata": {
        "colab": {
          "base_uri": "https://localhost:8080/"
        },
        "id": "NTOcJngcJZyd",
        "outputId": "25104e78-83b9-4e7a-fb0a-20ac08f8f6fa"
      },
      "execution_count": 29,
      "outputs": [
        {
          "output_type": "stream",
          "name": "stdout",
          "text": [
            "----- k-Nearest Neighbors (k=3) -----\n",
            "Accuracy: 1.0\n",
            "Confusion Matrix:\n",
            " [[19  0  0]\n",
            " [ 0 13  0]\n",
            " [ 0  0 13]]\n",
            "Classification Report:\n",
            "               precision    recall  f1-score   support\n",
            "\n",
            "           0       1.00      1.00      1.00        19\n",
            "           1       1.00      1.00      1.00        13\n",
            "           2       1.00      1.00      1.00        13\n",
            "\n",
            "    accuracy                           1.00        45\n",
            "   macro avg       1.00      1.00      1.00        45\n",
            "weighted avg       1.00      1.00      1.00        45\n",
            "\n"
          ]
        }
      ]
    }
  ]
}